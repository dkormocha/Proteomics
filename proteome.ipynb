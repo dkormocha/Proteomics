{
 "cells": [
  {
   "cell_type": "code",
   "execution_count": 1,
   "metadata": {},
   "outputs": [],
   "source": [
    "import pandas as pd\n",
    "import re\n",
    "import matplotlib.pyplot as plt\n",
    "import numpy as np\n",
    "pd.options.mode.chained_assignment = None \n",
    "from Bio import SeqIO\n",
    "import io\n",
    "from io import StringIO"
   ]
  },
  {
   "cell_type": "code",
   "execution_count": 2,
   "metadata": {},
   "outputs": [],
   "source": [
    "df = pd.read_csv('proteusAll.tsv', sep=\"\\t\", dtype={'Sequence': 'str', 'Modified sequence': 'str', 'Modifications': 'str', 'Proteins': 'str', 'Leading razor protein': 'str', \n",
    "                                                  'Experiment': 'int', 'Charge': 'int', 'Reverse': 'str', 'Potential contaminant': 'str', 'Reporter intensity 1': 'float',\n",
    "                                                  'Reporter intensity 2':'float', 'Reporter intensity 3': 'float', 'Reporter intensity 4': 'float',\n",
    "                                                  'Reporter intensity 5': 'float', 'Reporter intensity 6': 'float', 'Reporter intensity 7': 'float',\n",
    "                                                  'Reporter intensity 8': 'float', 'Reporter intensity 9': 'float', 'Reporter intensity 10': 'float',})"
   ]
  },
  {
   "cell_type": "code",
   "execution_count": 3,
   "metadata": {},
   "outputs": [],
   "source": [
    "df = df.drop_duplicates(subset='Sequence', keep=\"first\") #REMOVE DUPLICATES"
   ]
  },
  {
   "cell_type": "code",
   "execution_count": 4,
   "metadata": {},
   "outputs": [
    {
     "data": {
      "text/html": [
       "<div>\n",
       "<style scoped>\n",
       "    .dataframe tbody tr th:only-of-type {\n",
       "        vertical-align: middle;\n",
       "    }\n",
       "\n",
       "    .dataframe tbody tr th {\n",
       "        vertical-align: top;\n",
       "    }\n",
       "\n",
       "    .dataframe thead th {\n",
       "        text-align: right;\n",
       "    }\n",
       "</style>\n",
       "<table border=\"1\" class=\"dataframe\">\n",
       "  <thead>\n",
       "    <tr style=\"text-align: right;\">\n",
       "      <th></th>\n",
       "      <th>Sequence</th>\n",
       "      <th>Modified sequence</th>\n",
       "      <th>Modifications</th>\n",
       "      <th>Proteins</th>\n",
       "      <th>Leading razor protein</th>\n",
       "      <th>Experiment</th>\n",
       "      <th>Charge</th>\n",
       "      <th>Reverse</th>\n",
       "      <th>Potential contaminant</th>\n",
       "      <th>Reporter intensity 1</th>\n",
       "      <th>Reporter intensity 2</th>\n",
       "      <th>Reporter intensity 3</th>\n",
       "      <th>Reporter intensity 4</th>\n",
       "      <th>Reporter intensity 5</th>\n",
       "      <th>Reporter intensity 6</th>\n",
       "      <th>Reporter intensity 7</th>\n",
       "      <th>Reporter intensity 8</th>\n",
       "      <th>Reporter intensity 9</th>\n",
       "      <th>Reporter intensity 10</th>\n",
       "    </tr>\n",
       "  </thead>\n",
       "  <tbody>\n",
       "    <tr>\n",
       "      <th>0</th>\n",
       "      <td>AAAAAAAATMALAAPSSPTPESPTMLTK</td>\n",
       "      <td>_AAAAAAAATMALAAPSSPTPESPTMLTK_</td>\n",
       "      <td>Unmodified</td>\n",
       "      <td>INCENP</td>\n",
       "      <td>INCENP</td>\n",
       "      <td>1</td>\n",
       "      <td>4</td>\n",
       "      <td>NaN</td>\n",
       "      <td>NaN</td>\n",
       "      <td>1227.10</td>\n",
       "      <td>2029.8</td>\n",
       "      <td>1706.10</td>\n",
       "      <td>1627.90</td>\n",
       "      <td>2152.40</td>\n",
       "      <td>1703.40</td>\n",
       "      <td>1626.2</td>\n",
       "      <td>1878.30</td>\n",
       "      <td>1300.10</td>\n",
       "      <td>1281.10</td>\n",
       "    </tr>\n",
       "    <tr>\n",
       "      <th>1</th>\n",
       "      <td>AAAAAAAGDSDSWDADAFSVEDPVR</td>\n",
       "      <td>_(Acetyl (Protein N-term))AAAAAAAGDSDSWDADAFSV...</td>\n",
       "      <td>Acetyl (Protein N-term)</td>\n",
       "      <td>EIF3J</td>\n",
       "      <td>EIF3J</td>\n",
       "      <td>1</td>\n",
       "      <td>3</td>\n",
       "      <td>NaN</td>\n",
       "      <td>NaN</td>\n",
       "      <td>3567.00</td>\n",
       "      <td>6282.9</td>\n",
       "      <td>5224.40</td>\n",
       "      <td>6393.70</td>\n",
       "      <td>3946.40</td>\n",
       "      <td>3680.90</td>\n",
       "      <td>3678.1</td>\n",
       "      <td>5648.10</td>\n",
       "      <td>2974.00</td>\n",
       "      <td>2880.20</td>\n",
       "    </tr>\n",
       "    <tr>\n",
       "      <th>3</th>\n",
       "      <td>AAAAAAAGDSDSWDADAFSVEDPVRK</td>\n",
       "      <td>_(Acetyl (Protein N-term))AAAAAAAGDSDSWDADAFSV...</td>\n",
       "      <td>Acetyl (Protein N-term)</td>\n",
       "      <td>EIF3J</td>\n",
       "      <td>EIF3J</td>\n",
       "      <td>1</td>\n",
       "      <td>3</td>\n",
       "      <td>NaN</td>\n",
       "      <td>NaN</td>\n",
       "      <td>9892.50</td>\n",
       "      <td>12415.0</td>\n",
       "      <td>10484.00</td>\n",
       "      <td>8091.60</td>\n",
       "      <td>10791.00</td>\n",
       "      <td>7756.90</td>\n",
       "      <td>9398.8</td>\n",
       "      <td>10201.00</td>\n",
       "      <td>3995.00</td>\n",
       "      <td>6233.10</td>\n",
       "    </tr>\n",
       "    <tr>\n",
       "      <th>6</th>\n",
       "      <td>AAAAAAALQAK</td>\n",
       "      <td>_AAAAAAALQAK_</td>\n",
       "      <td>Unmodified</td>\n",
       "      <td>RPL4</td>\n",
       "      <td>RPL4</td>\n",
       "      <td>1</td>\n",
       "      <td>3</td>\n",
       "      <td>NaN</td>\n",
       "      <td>NaN</td>\n",
       "      <td>1432.70</td>\n",
       "      <td>2065.6</td>\n",
       "      <td>1541.50</td>\n",
       "      <td>1309.60</td>\n",
       "      <td>1399.40</td>\n",
       "      <td>1293.00</td>\n",
       "      <td>1301.9</td>\n",
       "      <td>1506.40</td>\n",
       "      <td>973.21</td>\n",
       "      <td>933.73</td>\n",
       "    </tr>\n",
       "    <tr>\n",
       "      <th>10</th>\n",
       "      <td>AAAAAAGAASGLPGPVAQGLK</td>\n",
       "      <td>_(Acetyl (Protein N-term))AAAAAAGAASGLPGPVAQGLK_</td>\n",
       "      <td>Acetyl (Protein N-term)</td>\n",
       "      <td>IPO9</td>\n",
       "      <td>IPO9</td>\n",
       "      <td>1</td>\n",
       "      <td>3</td>\n",
       "      <td>NaN</td>\n",
       "      <td>NaN</td>\n",
       "      <td>2484.60</td>\n",
       "      <td>2721.5</td>\n",
       "      <td>2206.10</td>\n",
       "      <td>1993.40</td>\n",
       "      <td>2238.30</td>\n",
       "      <td>1884.80</td>\n",
       "      <td>2516.6</td>\n",
       "      <td>2614.40</td>\n",
       "      <td>996.36</td>\n",
       "      <td>1732.10</td>\n",
       "    </tr>\n",
       "    <tr>\n",
       "      <th>...</th>\n",
       "      <td>...</td>\n",
       "      <td>...</td>\n",
       "      <td>...</td>\n",
       "      <td>...</td>\n",
       "      <td>...</td>\n",
       "      <td>...</td>\n",
       "      <td>...</td>\n",
       "      <td>...</td>\n",
       "      <td>...</td>\n",
       "      <td>...</td>\n",
       "      <td>...</td>\n",
       "      <td>...</td>\n",
       "      <td>...</td>\n",
       "      <td>...</td>\n",
       "      <td>...</td>\n",
       "      <td>...</td>\n",
       "      <td>...</td>\n",
       "      <td>...</td>\n",
       "      <td>...</td>\n",
       "    </tr>\n",
       "    <tr>\n",
       "      <th>98547</th>\n",
       "      <td>YYTGNYDQYVK</td>\n",
       "      <td>_YYTGNYDQYVK_</td>\n",
       "      <td>Unmodified</td>\n",
       "      <td>ABCF2</td>\n",
       "      <td>ABCF2</td>\n",
       "      <td>1</td>\n",
       "      <td>2</td>\n",
       "      <td>NaN</td>\n",
       "      <td>NaN</td>\n",
       "      <td>28702.00</td>\n",
       "      <td>33926.0</td>\n",
       "      <td>26287.00</td>\n",
       "      <td>24007.00</td>\n",
       "      <td>29749.00</td>\n",
       "      <td>25552.00</td>\n",
       "      <td>22878.0</td>\n",
       "      <td>25038.00</td>\n",
       "      <td>20123.00</td>\n",
       "      <td>27010.00</td>\n",
       "    </tr>\n",
       "    <tr>\n",
       "      <th>98548</th>\n",
       "      <td>YYTLEEIQK</td>\n",
       "      <td>_YYTLEEIQK_</td>\n",
       "      <td>Unmodified</td>\n",
       "      <td>CYB5A</td>\n",
       "      <td>CYB5A</td>\n",
       "      <td>1</td>\n",
       "      <td>2</td>\n",
       "      <td>NaN</td>\n",
       "      <td>NaN</td>\n",
       "      <td>21173.00</td>\n",
       "      <td>22902.0</td>\n",
       "      <td>23303.00</td>\n",
       "      <td>17612.00</td>\n",
       "      <td>20777.00</td>\n",
       "      <td>15935.00</td>\n",
       "      <td>26222.0</td>\n",
       "      <td>23007.00</td>\n",
       "      <td>9133.50</td>\n",
       "      <td>8874.80</td>\n",
       "    </tr>\n",
       "    <tr>\n",
       "      <th>98550</th>\n",
       "      <td>YYTLFGR</td>\n",
       "      <td>_YYTLFGR_</td>\n",
       "      <td>Unmodified</td>\n",
       "      <td>EPRS1</td>\n",
       "      <td>EPRS1</td>\n",
       "      <td>1</td>\n",
       "      <td>2</td>\n",
       "      <td>NaN</td>\n",
       "      <td>NaN</td>\n",
       "      <td>4363.60</td>\n",
       "      <td>5652.1</td>\n",
       "      <td>4262.50</td>\n",
       "      <td>4063.70</td>\n",
       "      <td>4836.70</td>\n",
       "      <td>4661.00</td>\n",
       "      <td>4770.3</td>\n",
       "      <td>4726.30</td>\n",
       "      <td>2351.40</td>\n",
       "      <td>2785.60</td>\n",
       "    </tr>\n",
       "    <tr>\n",
       "      <th>98551</th>\n",
       "      <td>YYTSASGDEMVSLK</td>\n",
       "      <td>_YYTSASGDEM(Oxidation (M))VSLK_</td>\n",
       "      <td>Oxidation (M)</td>\n",
       "      <td>HSP90AA1</td>\n",
       "      <td>HSP90AA1</td>\n",
       "      <td>1</td>\n",
       "      <td>3</td>\n",
       "      <td>NaN</td>\n",
       "      <td>NaN</td>\n",
       "      <td>4335.30</td>\n",
       "      <td>4694.8</td>\n",
       "      <td>3483.10</td>\n",
       "      <td>5046.20</td>\n",
       "      <td>5346.70</td>\n",
       "      <td>5158.70</td>\n",
       "      <td>7120.2</td>\n",
       "      <td>4489.20</td>\n",
       "      <td>2699.60</td>\n",
       "      <td>3253.30</td>\n",
       "    </tr>\n",
       "    <tr>\n",
       "      <th>98568</th>\n",
       "      <td>YYVTIIDAPGHR</td>\n",
       "      <td>_YYVTIIDAPGHR_</td>\n",
       "      <td>Unmodified</td>\n",
       "      <td>EEF1A1P8</td>\n",
       "      <td>EEF1A1P8</td>\n",
       "      <td>1</td>\n",
       "      <td>3</td>\n",
       "      <td>NaN</td>\n",
       "      <td>NaN</td>\n",
       "      <td>949.17</td>\n",
       "      <td>1032.8</td>\n",
       "      <td>713.58</td>\n",
       "      <td>943.72</td>\n",
       "      <td>894.31</td>\n",
       "      <td>726.01</td>\n",
       "      <td>1100.5</td>\n",
       "      <td>849.26</td>\n",
       "      <td>413.30</td>\n",
       "      <td>768.14</td>\n",
       "    </tr>\n",
       "  </tbody>\n",
       "</table>\n",
       "<p>43983 rows × 19 columns</p>\n",
       "</div>"
      ],
      "text/plain": [
       "                           Sequence  \\\n",
       "0      AAAAAAAATMALAAPSSPTPESPTMLTK   \n",
       "1         AAAAAAAGDSDSWDADAFSVEDPVR   \n",
       "3        AAAAAAAGDSDSWDADAFSVEDPVRK   \n",
       "6                       AAAAAAALQAK   \n",
       "10            AAAAAAGAASGLPGPVAQGLK   \n",
       "...                             ...   \n",
       "98547                   YYTGNYDQYVK   \n",
       "98548                     YYTLEEIQK   \n",
       "98550                       YYTLFGR   \n",
       "98551                YYTSASGDEMVSLK   \n",
       "98568                  YYVTIIDAPGHR   \n",
       "\n",
       "                                       Modified sequence  \\\n",
       "0                         _AAAAAAAATMALAAPSSPTPESPTMLTK_   \n",
       "1      _(Acetyl (Protein N-term))AAAAAAAGDSDSWDADAFSV...   \n",
       "3      _(Acetyl (Protein N-term))AAAAAAAGDSDSWDADAFSV...   \n",
       "6                                          _AAAAAAALQAK_   \n",
       "10      _(Acetyl (Protein N-term))AAAAAAGAASGLPGPVAQGLK_   \n",
       "...                                                  ...   \n",
       "98547                                      _YYTGNYDQYVK_   \n",
       "98548                                        _YYTLEEIQK_   \n",
       "98550                                          _YYTLFGR_   \n",
       "98551                    _YYTSASGDEM(Oxidation (M))VSLK_   \n",
       "98568                                     _YYVTIIDAPGHR_   \n",
       "\n",
       "                 Modifications  Proteins Leading razor protein  Experiment  \\\n",
       "0                   Unmodified    INCENP                INCENP           1   \n",
       "1      Acetyl (Protein N-term)     EIF3J                 EIF3J           1   \n",
       "3      Acetyl (Protein N-term)     EIF3J                 EIF3J           1   \n",
       "6                   Unmodified      RPL4                  RPL4           1   \n",
       "10     Acetyl (Protein N-term)      IPO9                  IPO9           1   \n",
       "...                        ...       ...                   ...         ...   \n",
       "98547               Unmodified     ABCF2                 ABCF2           1   \n",
       "98548               Unmodified     CYB5A                 CYB5A           1   \n",
       "98550               Unmodified     EPRS1                 EPRS1           1   \n",
       "98551            Oxidation (M)  HSP90AA1              HSP90AA1           1   \n",
       "98568               Unmodified  EEF1A1P8              EEF1A1P8           1   \n",
       "\n",
       "       Charge Reverse Potential contaminant  Reporter intensity 1  \\\n",
       "0           4     NaN                   NaN               1227.10   \n",
       "1           3     NaN                   NaN               3567.00   \n",
       "3           3     NaN                   NaN               9892.50   \n",
       "6           3     NaN                   NaN               1432.70   \n",
       "10          3     NaN                   NaN               2484.60   \n",
       "...       ...     ...                   ...                   ...   \n",
       "98547       2     NaN                   NaN              28702.00   \n",
       "98548       2     NaN                   NaN              21173.00   \n",
       "98550       2     NaN                   NaN               4363.60   \n",
       "98551       3     NaN                   NaN               4335.30   \n",
       "98568       3     NaN                   NaN                949.17   \n",
       "\n",
       "       Reporter intensity 2  Reporter intensity 3  Reporter intensity 4  \\\n",
       "0                    2029.8               1706.10               1627.90   \n",
       "1                    6282.9               5224.40               6393.70   \n",
       "3                   12415.0              10484.00               8091.60   \n",
       "6                    2065.6               1541.50               1309.60   \n",
       "10                   2721.5               2206.10               1993.40   \n",
       "...                     ...                   ...                   ...   \n",
       "98547               33926.0              26287.00              24007.00   \n",
       "98548               22902.0              23303.00              17612.00   \n",
       "98550                5652.1               4262.50               4063.70   \n",
       "98551                4694.8               3483.10               5046.20   \n",
       "98568                1032.8                713.58                943.72   \n",
       "\n",
       "       Reporter intensity 5  Reporter intensity 6  Reporter intensity 7  \\\n",
       "0                   2152.40               1703.40                1626.2   \n",
       "1                   3946.40               3680.90                3678.1   \n",
       "3                  10791.00               7756.90                9398.8   \n",
       "6                   1399.40               1293.00                1301.9   \n",
       "10                  2238.30               1884.80                2516.6   \n",
       "...                     ...                   ...                   ...   \n",
       "98547              29749.00              25552.00               22878.0   \n",
       "98548              20777.00              15935.00               26222.0   \n",
       "98550               4836.70               4661.00                4770.3   \n",
       "98551               5346.70               5158.70                7120.2   \n",
       "98568                894.31                726.01                1100.5   \n",
       "\n",
       "       Reporter intensity 8  Reporter intensity 9  Reporter intensity 10  \n",
       "0                   1878.30               1300.10                1281.10  \n",
       "1                   5648.10               2974.00                2880.20  \n",
       "3                  10201.00               3995.00                6233.10  \n",
       "6                   1506.40                973.21                 933.73  \n",
       "10                  2614.40                996.36                1732.10  \n",
       "...                     ...                   ...                    ...  \n",
       "98547              25038.00              20123.00               27010.00  \n",
       "98548              23007.00               9133.50                8874.80  \n",
       "98550               4726.30               2351.40                2785.60  \n",
       "98551               4489.20               2699.60                3253.30  \n",
       "98568                849.26                413.30                 768.14  \n",
       "\n",
       "[43983 rows x 19 columns]"
      ]
     },
     "execution_count": 4,
     "metadata": {},
     "output_type": "execute_result"
    }
   ],
   "source": [
    "df"
   ]
  },
  {
   "cell_type": "code",
   "execution_count": 5,
   "metadata": {},
   "outputs": [],
   "source": [
    "df['MScleavage_sites'] = df['Sequence'].str.findall(r\".(?:(?<![KR](?!P)).)*\") \n",
    "df['liststring'] = [','.join(map(str, l)) for l in df['MScleavage_sites']]\n",
    "df['new'] = df.liststring.str.count(',')"
   ]
  },
  {
   "cell_type": "code",
   "execution_count": 6,
   "metadata": {},
   "outputs": [
    {
     "data": {
      "text/html": [
       "<div>\n",
       "<style scoped>\n",
       "    .dataframe tbody tr th:only-of-type {\n",
       "        vertical-align: middle;\n",
       "    }\n",
       "\n",
       "    .dataframe tbody tr th {\n",
       "        vertical-align: top;\n",
       "    }\n",
       "\n",
       "    .dataframe thead th {\n",
       "        text-align: right;\n",
       "    }\n",
       "</style>\n",
       "<table border=\"1\" class=\"dataframe\">\n",
       "  <thead>\n",
       "    <tr style=\"text-align: right;\">\n",
       "      <th></th>\n",
       "      <th>Sequence</th>\n",
       "      <th>Modified sequence</th>\n",
       "      <th>Modifications</th>\n",
       "      <th>Proteins</th>\n",
       "      <th>Leading razor protein</th>\n",
       "      <th>Experiment</th>\n",
       "      <th>Charge</th>\n",
       "      <th>Reverse</th>\n",
       "      <th>Potential contaminant</th>\n",
       "      <th>Reporter intensity 1</th>\n",
       "      <th>...</th>\n",
       "      <th>Reporter intensity 4</th>\n",
       "      <th>Reporter intensity 5</th>\n",
       "      <th>Reporter intensity 6</th>\n",
       "      <th>Reporter intensity 7</th>\n",
       "      <th>Reporter intensity 8</th>\n",
       "      <th>Reporter intensity 9</th>\n",
       "      <th>Reporter intensity 10</th>\n",
       "      <th>MScleavage_sites</th>\n",
       "      <th>liststring</th>\n",
       "      <th>new</th>\n",
       "    </tr>\n",
       "  </thead>\n",
       "  <tbody>\n",
       "    <tr>\n",
       "      <th>0</th>\n",
       "      <td>AAAAAAAATMALAAPSSPTPESPTMLTK</td>\n",
       "      <td>_AAAAAAAATMALAAPSSPTPESPTMLTK_</td>\n",
       "      <td>Unmodified</td>\n",
       "      <td>INCENP</td>\n",
       "      <td>INCENP</td>\n",
       "      <td>1</td>\n",
       "      <td>4</td>\n",
       "      <td>NaN</td>\n",
       "      <td>NaN</td>\n",
       "      <td>1227.10</td>\n",
       "      <td>...</td>\n",
       "      <td>1627.90</td>\n",
       "      <td>2152.40</td>\n",
       "      <td>1703.40</td>\n",
       "      <td>1626.2</td>\n",
       "      <td>1878.30</td>\n",
       "      <td>1300.10</td>\n",
       "      <td>1281.10</td>\n",
       "      <td>[AAAAAAAATMALAAPSSPTPESPTMLTK]</td>\n",
       "      <td>AAAAAAAATMALAAPSSPTPESPTMLTK</td>\n",
       "      <td>0</td>\n",
       "    </tr>\n",
       "    <tr>\n",
       "      <th>1</th>\n",
       "      <td>AAAAAAAGDSDSWDADAFSVEDPVR</td>\n",
       "      <td>_(Acetyl (Protein N-term))AAAAAAAGDSDSWDADAFSV...</td>\n",
       "      <td>Acetyl (Protein N-term)</td>\n",
       "      <td>EIF3J</td>\n",
       "      <td>EIF3J</td>\n",
       "      <td>1</td>\n",
       "      <td>3</td>\n",
       "      <td>NaN</td>\n",
       "      <td>NaN</td>\n",
       "      <td>3567.00</td>\n",
       "      <td>...</td>\n",
       "      <td>6393.70</td>\n",
       "      <td>3946.40</td>\n",
       "      <td>3680.90</td>\n",
       "      <td>3678.1</td>\n",
       "      <td>5648.10</td>\n",
       "      <td>2974.00</td>\n",
       "      <td>2880.20</td>\n",
       "      <td>[AAAAAAAGDSDSWDADAFSVEDPVR]</td>\n",
       "      <td>AAAAAAAGDSDSWDADAFSVEDPVR</td>\n",
       "      <td>0</td>\n",
       "    </tr>\n",
       "    <tr>\n",
       "      <th>3</th>\n",
       "      <td>AAAAAAAGDSDSWDADAFSVEDPVRK</td>\n",
       "      <td>_(Acetyl (Protein N-term))AAAAAAAGDSDSWDADAFSV...</td>\n",
       "      <td>Acetyl (Protein N-term)</td>\n",
       "      <td>EIF3J</td>\n",
       "      <td>EIF3J</td>\n",
       "      <td>1</td>\n",
       "      <td>3</td>\n",
       "      <td>NaN</td>\n",
       "      <td>NaN</td>\n",
       "      <td>9892.50</td>\n",
       "      <td>...</td>\n",
       "      <td>8091.60</td>\n",
       "      <td>10791.00</td>\n",
       "      <td>7756.90</td>\n",
       "      <td>9398.8</td>\n",
       "      <td>10201.00</td>\n",
       "      <td>3995.00</td>\n",
       "      <td>6233.10</td>\n",
       "      <td>[AAAAAAAGDSDSWDADAFSVEDPVR, K]</td>\n",
       "      <td>AAAAAAAGDSDSWDADAFSVEDPVR,K</td>\n",
       "      <td>1</td>\n",
       "    </tr>\n",
       "    <tr>\n",
       "      <th>6</th>\n",
       "      <td>AAAAAAALQAK</td>\n",
       "      <td>_AAAAAAALQAK_</td>\n",
       "      <td>Unmodified</td>\n",
       "      <td>RPL4</td>\n",
       "      <td>RPL4</td>\n",
       "      <td>1</td>\n",
       "      <td>3</td>\n",
       "      <td>NaN</td>\n",
       "      <td>NaN</td>\n",
       "      <td>1432.70</td>\n",
       "      <td>...</td>\n",
       "      <td>1309.60</td>\n",
       "      <td>1399.40</td>\n",
       "      <td>1293.00</td>\n",
       "      <td>1301.9</td>\n",
       "      <td>1506.40</td>\n",
       "      <td>973.21</td>\n",
       "      <td>933.73</td>\n",
       "      <td>[AAAAAAALQAK]</td>\n",
       "      <td>AAAAAAALQAK</td>\n",
       "      <td>0</td>\n",
       "    </tr>\n",
       "    <tr>\n",
       "      <th>10</th>\n",
       "      <td>AAAAAAGAASGLPGPVAQGLK</td>\n",
       "      <td>_(Acetyl (Protein N-term))AAAAAAGAASGLPGPVAQGLK_</td>\n",
       "      <td>Acetyl (Protein N-term)</td>\n",
       "      <td>IPO9</td>\n",
       "      <td>IPO9</td>\n",
       "      <td>1</td>\n",
       "      <td>3</td>\n",
       "      <td>NaN</td>\n",
       "      <td>NaN</td>\n",
       "      <td>2484.60</td>\n",
       "      <td>...</td>\n",
       "      <td>1993.40</td>\n",
       "      <td>2238.30</td>\n",
       "      <td>1884.80</td>\n",
       "      <td>2516.6</td>\n",
       "      <td>2614.40</td>\n",
       "      <td>996.36</td>\n",
       "      <td>1732.10</td>\n",
       "      <td>[AAAAAAGAASGLPGPVAQGLK]</td>\n",
       "      <td>AAAAAAGAASGLPGPVAQGLK</td>\n",
       "      <td>0</td>\n",
       "    </tr>\n",
       "    <tr>\n",
       "      <th>...</th>\n",
       "      <td>...</td>\n",
       "      <td>...</td>\n",
       "      <td>...</td>\n",
       "      <td>...</td>\n",
       "      <td>...</td>\n",
       "      <td>...</td>\n",
       "      <td>...</td>\n",
       "      <td>...</td>\n",
       "      <td>...</td>\n",
       "      <td>...</td>\n",
       "      <td>...</td>\n",
       "      <td>...</td>\n",
       "      <td>...</td>\n",
       "      <td>...</td>\n",
       "      <td>...</td>\n",
       "      <td>...</td>\n",
       "      <td>...</td>\n",
       "      <td>...</td>\n",
       "      <td>...</td>\n",
       "      <td>...</td>\n",
       "      <td>...</td>\n",
       "    </tr>\n",
       "    <tr>\n",
       "      <th>98547</th>\n",
       "      <td>YYTGNYDQYVK</td>\n",
       "      <td>_YYTGNYDQYVK_</td>\n",
       "      <td>Unmodified</td>\n",
       "      <td>ABCF2</td>\n",
       "      <td>ABCF2</td>\n",
       "      <td>1</td>\n",
       "      <td>2</td>\n",
       "      <td>NaN</td>\n",
       "      <td>NaN</td>\n",
       "      <td>28702.00</td>\n",
       "      <td>...</td>\n",
       "      <td>24007.00</td>\n",
       "      <td>29749.00</td>\n",
       "      <td>25552.00</td>\n",
       "      <td>22878.0</td>\n",
       "      <td>25038.00</td>\n",
       "      <td>20123.00</td>\n",
       "      <td>27010.00</td>\n",
       "      <td>[YYTGNYDQYVK]</td>\n",
       "      <td>YYTGNYDQYVK</td>\n",
       "      <td>0</td>\n",
       "    </tr>\n",
       "    <tr>\n",
       "      <th>98548</th>\n",
       "      <td>YYTLEEIQK</td>\n",
       "      <td>_YYTLEEIQK_</td>\n",
       "      <td>Unmodified</td>\n",
       "      <td>CYB5A</td>\n",
       "      <td>CYB5A</td>\n",
       "      <td>1</td>\n",
       "      <td>2</td>\n",
       "      <td>NaN</td>\n",
       "      <td>NaN</td>\n",
       "      <td>21173.00</td>\n",
       "      <td>...</td>\n",
       "      <td>17612.00</td>\n",
       "      <td>20777.00</td>\n",
       "      <td>15935.00</td>\n",
       "      <td>26222.0</td>\n",
       "      <td>23007.00</td>\n",
       "      <td>9133.50</td>\n",
       "      <td>8874.80</td>\n",
       "      <td>[YYTLEEIQK]</td>\n",
       "      <td>YYTLEEIQK</td>\n",
       "      <td>0</td>\n",
       "    </tr>\n",
       "    <tr>\n",
       "      <th>98550</th>\n",
       "      <td>YYTLFGR</td>\n",
       "      <td>_YYTLFGR_</td>\n",
       "      <td>Unmodified</td>\n",
       "      <td>EPRS1</td>\n",
       "      <td>EPRS1</td>\n",
       "      <td>1</td>\n",
       "      <td>2</td>\n",
       "      <td>NaN</td>\n",
       "      <td>NaN</td>\n",
       "      <td>4363.60</td>\n",
       "      <td>...</td>\n",
       "      <td>4063.70</td>\n",
       "      <td>4836.70</td>\n",
       "      <td>4661.00</td>\n",
       "      <td>4770.3</td>\n",
       "      <td>4726.30</td>\n",
       "      <td>2351.40</td>\n",
       "      <td>2785.60</td>\n",
       "      <td>[YYTLFGR]</td>\n",
       "      <td>YYTLFGR</td>\n",
       "      <td>0</td>\n",
       "    </tr>\n",
       "    <tr>\n",
       "      <th>98551</th>\n",
       "      <td>YYTSASGDEMVSLK</td>\n",
       "      <td>_YYTSASGDEM(Oxidation (M))VSLK_</td>\n",
       "      <td>Oxidation (M)</td>\n",
       "      <td>HSP90AA1</td>\n",
       "      <td>HSP90AA1</td>\n",
       "      <td>1</td>\n",
       "      <td>3</td>\n",
       "      <td>NaN</td>\n",
       "      <td>NaN</td>\n",
       "      <td>4335.30</td>\n",
       "      <td>...</td>\n",
       "      <td>5046.20</td>\n",
       "      <td>5346.70</td>\n",
       "      <td>5158.70</td>\n",
       "      <td>7120.2</td>\n",
       "      <td>4489.20</td>\n",
       "      <td>2699.60</td>\n",
       "      <td>3253.30</td>\n",
       "      <td>[YYTSASGDEMVSLK]</td>\n",
       "      <td>YYTSASGDEMVSLK</td>\n",
       "      <td>0</td>\n",
       "    </tr>\n",
       "    <tr>\n",
       "      <th>98568</th>\n",
       "      <td>YYVTIIDAPGHR</td>\n",
       "      <td>_YYVTIIDAPGHR_</td>\n",
       "      <td>Unmodified</td>\n",
       "      <td>EEF1A1P8</td>\n",
       "      <td>EEF1A1P8</td>\n",
       "      <td>1</td>\n",
       "      <td>3</td>\n",
       "      <td>NaN</td>\n",
       "      <td>NaN</td>\n",
       "      <td>949.17</td>\n",
       "      <td>...</td>\n",
       "      <td>943.72</td>\n",
       "      <td>894.31</td>\n",
       "      <td>726.01</td>\n",
       "      <td>1100.5</td>\n",
       "      <td>849.26</td>\n",
       "      <td>413.30</td>\n",
       "      <td>768.14</td>\n",
       "      <td>[YYVTIIDAPGHR]</td>\n",
       "      <td>YYVTIIDAPGHR</td>\n",
       "      <td>0</td>\n",
       "    </tr>\n",
       "  </tbody>\n",
       "</table>\n",
       "<p>43983 rows × 22 columns</p>\n",
       "</div>"
      ],
      "text/plain": [
       "                           Sequence  \\\n",
       "0      AAAAAAAATMALAAPSSPTPESPTMLTK   \n",
       "1         AAAAAAAGDSDSWDADAFSVEDPVR   \n",
       "3        AAAAAAAGDSDSWDADAFSVEDPVRK   \n",
       "6                       AAAAAAALQAK   \n",
       "10            AAAAAAGAASGLPGPVAQGLK   \n",
       "...                             ...   \n",
       "98547                   YYTGNYDQYVK   \n",
       "98548                     YYTLEEIQK   \n",
       "98550                       YYTLFGR   \n",
       "98551                YYTSASGDEMVSLK   \n",
       "98568                  YYVTIIDAPGHR   \n",
       "\n",
       "                                       Modified sequence  \\\n",
       "0                         _AAAAAAAATMALAAPSSPTPESPTMLTK_   \n",
       "1      _(Acetyl (Protein N-term))AAAAAAAGDSDSWDADAFSV...   \n",
       "3      _(Acetyl (Protein N-term))AAAAAAAGDSDSWDADAFSV...   \n",
       "6                                          _AAAAAAALQAK_   \n",
       "10      _(Acetyl (Protein N-term))AAAAAAGAASGLPGPVAQGLK_   \n",
       "...                                                  ...   \n",
       "98547                                      _YYTGNYDQYVK_   \n",
       "98548                                        _YYTLEEIQK_   \n",
       "98550                                          _YYTLFGR_   \n",
       "98551                    _YYTSASGDEM(Oxidation (M))VSLK_   \n",
       "98568                                     _YYVTIIDAPGHR_   \n",
       "\n",
       "                 Modifications  Proteins Leading razor protein  Experiment  \\\n",
       "0                   Unmodified    INCENP                INCENP           1   \n",
       "1      Acetyl (Protein N-term)     EIF3J                 EIF3J           1   \n",
       "3      Acetyl (Protein N-term)     EIF3J                 EIF3J           1   \n",
       "6                   Unmodified      RPL4                  RPL4           1   \n",
       "10     Acetyl (Protein N-term)      IPO9                  IPO9           1   \n",
       "...                        ...       ...                   ...         ...   \n",
       "98547               Unmodified     ABCF2                 ABCF2           1   \n",
       "98548               Unmodified     CYB5A                 CYB5A           1   \n",
       "98550               Unmodified     EPRS1                 EPRS1           1   \n",
       "98551            Oxidation (M)  HSP90AA1              HSP90AA1           1   \n",
       "98568               Unmodified  EEF1A1P8              EEF1A1P8           1   \n",
       "\n",
       "       Charge Reverse Potential contaminant  Reporter intensity 1  ...  \\\n",
       "0           4     NaN                   NaN               1227.10  ...   \n",
       "1           3     NaN                   NaN               3567.00  ...   \n",
       "3           3     NaN                   NaN               9892.50  ...   \n",
       "6           3     NaN                   NaN               1432.70  ...   \n",
       "10          3     NaN                   NaN               2484.60  ...   \n",
       "...       ...     ...                   ...                   ...  ...   \n",
       "98547       2     NaN                   NaN              28702.00  ...   \n",
       "98548       2     NaN                   NaN              21173.00  ...   \n",
       "98550       2     NaN                   NaN               4363.60  ...   \n",
       "98551       3     NaN                   NaN               4335.30  ...   \n",
       "98568       3     NaN                   NaN                949.17  ...   \n",
       "\n",
       "       Reporter intensity 4  Reporter intensity 5  Reporter intensity 6  \\\n",
       "0                   1627.90               2152.40               1703.40   \n",
       "1                   6393.70               3946.40               3680.90   \n",
       "3                   8091.60              10791.00               7756.90   \n",
       "6                   1309.60               1399.40               1293.00   \n",
       "10                  1993.40               2238.30               1884.80   \n",
       "...                     ...                   ...                   ...   \n",
       "98547              24007.00              29749.00              25552.00   \n",
       "98548              17612.00              20777.00              15935.00   \n",
       "98550               4063.70               4836.70               4661.00   \n",
       "98551               5046.20               5346.70               5158.70   \n",
       "98568                943.72                894.31                726.01   \n",
       "\n",
       "       Reporter intensity 7  Reporter intensity 8  Reporter intensity 9  \\\n",
       "0                    1626.2               1878.30               1300.10   \n",
       "1                    3678.1               5648.10               2974.00   \n",
       "3                    9398.8              10201.00               3995.00   \n",
       "6                    1301.9               1506.40                973.21   \n",
       "10                   2516.6               2614.40                996.36   \n",
       "...                     ...                   ...                   ...   \n",
       "98547               22878.0              25038.00              20123.00   \n",
       "98548               26222.0              23007.00               9133.50   \n",
       "98550                4770.3               4726.30               2351.40   \n",
       "98551                7120.2               4489.20               2699.60   \n",
       "98568                1100.5                849.26                413.30   \n",
       "\n",
       "       Reporter intensity 10                MScleavage_sites  \\\n",
       "0                    1281.10  [AAAAAAAATMALAAPSSPTPESPTMLTK]   \n",
       "1                    2880.20     [AAAAAAAGDSDSWDADAFSVEDPVR]   \n",
       "3                    6233.10  [AAAAAAAGDSDSWDADAFSVEDPVR, K]   \n",
       "6                     933.73                   [AAAAAAALQAK]   \n",
       "10                   1732.10         [AAAAAAGAASGLPGPVAQGLK]   \n",
       "...                      ...                             ...   \n",
       "98547               27010.00                   [YYTGNYDQYVK]   \n",
       "98548                8874.80                     [YYTLEEIQK]   \n",
       "98550                2785.60                       [YYTLFGR]   \n",
       "98551                3253.30                [YYTSASGDEMVSLK]   \n",
       "98568                 768.14                  [YYVTIIDAPGHR]   \n",
       "\n",
       "                         liststring new  \n",
       "0      AAAAAAAATMALAAPSSPTPESPTMLTK   0  \n",
       "1         AAAAAAAGDSDSWDADAFSVEDPVR   0  \n",
       "3       AAAAAAAGDSDSWDADAFSVEDPVR,K   1  \n",
       "6                       AAAAAAALQAK   0  \n",
       "10            AAAAAAGAASGLPGPVAQGLK   0  \n",
       "...                             ...  ..  \n",
       "98547                   YYTGNYDQYVK   0  \n",
       "98548                     YYTLEEIQK   0  \n",
       "98550                       YYTLFGR   0  \n",
       "98551                YYTSASGDEMVSLK   0  \n",
       "98568                  YYVTIIDAPGHR   0  \n",
       "\n",
       "[43983 rows x 22 columns]"
      ]
     },
     "execution_count": 6,
     "metadata": {},
     "output_type": "execute_result"
    }
   ],
   "source": [
    "df"
   ]
  },
  {
   "cell_type": "code",
   "execution_count": 7,
   "metadata": {},
   "outputs": [
    {
     "data": {
      "text/plain": [
       "AHNAK         259\n",
       "PLEC          247\n",
       "DYNC1H1       184\n",
       "MYH9          133\n",
       "FLNB          126\n",
       "             ... \n",
       "HOOK1           1\n",
       "HSPB11          1\n",
       "AL358113.1      1\n",
       "DSTYK           1\n",
       "TENT4A          1\n",
       "Name: Proteins, Length: 5936, dtype: int64"
      ]
     },
     "execution_count": 7,
     "metadata": {},
     "output_type": "execute_result"
    }
   ],
   "source": [
    "df['Proteins'].value_counts()\n"
   ]
  },
  {
   "cell_type": "code",
   "execution_count": 8,
   "metadata": {},
   "outputs": [
    {
     "data": {
      "text/plain": [
       "5752"
      ]
     },
     "execution_count": 8,
     "metadata": {},
     "output_type": "execute_result"
    }
   ],
   "source": [
    "df['new'].value_counts()\n",
    "miss_c= df['new'].sum()\n",
    "miss_c"
   ]
  },
  {
   "cell_type": "code",
   "execution_count": 9,
   "metadata": {},
   "outputs": [
    {
     "data": {
      "text/plain": [
       "43983"
      ]
     },
     "execution_count": 9,
     "metadata": {},
     "output_type": "execute_result"
    }
   ],
   "source": [
    "tots=len(df)\n",
    "tots"
   ]
  },
  {
   "cell_type": "code",
   "execution_count": 10,
   "metadata": {},
   "outputs": [
    {
     "data": {
      "image/png": "[encoded data removed]",
      "text/plain": [
       "<Figure size 432x288 with 1 Axes>"
      ]
     },
     "metadata": {
      "needs_background": "light"
     },
     "output_type": "display_data"
    }
   ],
   "source": [
    "x3 = np.array([\"Total\",\"MC\"])\n",
    "y3 = np.array([tots,miss_c])\n",
    "plt.bar(x3, y3, width= 0.6 , color=[\"#61afa1\", \"#b175c7\"])\n",
    "plt.show()"
   ]
  },
  {
   "cell_type": "code",
   "execution_count": 11,
   "metadata": {},
   "outputs": [
    {
     "data": {
      "text/plain": [
       "0    43049\n",
       "1      926\n",
       "2        8\n",
       "Name: R_mc, dtype: int64"
      ]
     },
     "execution_count": 11,
     "metadata": {},
     "output_type": "execute_result"
    }
   ],
   "source": [
    "df['R_mc'] = df.liststring.str.count('R,')\n",
    "df['K_mc'] = df.liststring.str.count('K,')\n",
    "df['R_mc'].value_counts()"
   ]
  },
  {
   "cell_type": "code",
   "execution_count": 12,
   "metadata": {},
   "outputs": [
    {
     "data": {
      "text/plain": [
       "942"
      ]
     },
     "execution_count": 12,
     "metadata": {},
     "output_type": "execute_result"
    }
   ],
   "source": [
    "miss_R= df['R_mc'].sum()\n",
    "miss_R"
   ]
  },
  {
   "cell_type": "code",
   "execution_count": 13,
   "metadata": {},
   "outputs": [
    {
     "data": {
      "text/plain": [
       "4810"
      ]
     },
     "execution_count": 13,
     "metadata": {},
     "output_type": "execute_result"
    }
   ],
   "source": [
    "df['K_mc'].value_counts()\n",
    "miss_K= df['K_mc'].sum()\n",
    "miss_K"
   ]
  },
  {
   "cell_type": "code",
   "execution_count": 14,
   "metadata": {},
   "outputs": [
    {
     "data": {
      "image/png": "[encoded data removed]",
      "text/plain": [
       "<Figure size 432x288 with 1 Axes>"
      ]
     },
     "metadata": {
      "needs_background": "light"
     },
     "output_type": "display_data"
    }
   ],
   "source": [
    "x_new = np.array([\"K\",\"R\"])\n",
    "y_new = np.array([miss_K,miss_R])\n",
    "\n",
    "plt.bar(x_new, y_new, width= 0.6 , color=[\"#61afa1\", \"#b175c7\"])\n",
    "plt.show()"
   ]
  },
  {
   "cell_type": "code",
   "execution_count": 15,
   "metadata": {},
   "outputs": [],
   "source": [
    "df.to_csv ('new.csv', index = False, header=True) #CSV file with new df"
   ]
  },
  {
   "cell_type": "code",
   "execution_count": 16,
   "metadata": {},
   "outputs": [],
   "source": [
    "pro=[]\n",
    "for i in df['Proteins']:\n",
    "    pro.append(i)"
   ]
  },
  {
   "cell_type": "markdown",
   "metadata": {},
   "source": [
    "import urllib.parse\n",
    "import urllib.request\n",
    "\n",
    "url = 'https://www.uniprot.org/uniprot/?query=proteome:UP000005640&format=fasta'\n",
    "\n",
    "params = {\n",
    "'from': 'ACC+ID',\n",
    "'to': 'ENSEMBL_ID',\n",
    "'format': 'tab',\n",
    "'query': pro\n",
    "}\n",
    "\n",
    "data = urllib.parse.urlencode(params)\n",
    "data = data.encode('utf-8')\n",
    "req = urllib.request.Request(url, data)\n",
    "with urllib.request.urlopen(req) as f:\n",
    "   response = f.read()\n",
    "print(response.decode('utf-8'))"
   ]
  },
  {
   "cell_type": "markdown",
   "metadata": {},
   "source": [
    "import urllib.request\n",
    "\n",
    "def get_protein_sequences(uniprot_list):\n",
    "    \"\"\"Retrieves the sequences from the UniProt database based on the list of\n",
    "    UniProt ids.\n",
    "    In general, \n",
    "        1. Compose your query here with the advanced search tool:\n",
    "    https://www.uniprot.org/uniprot/?query=id%3Ap40925+OR+id%3Ap40926+OR+id%3Ao43175&sort=score\n",
    "        2. Replace `&sort=score` with `&format=fasta`\n",
    "        3. Edit this function as necessary\n",
    "    Returns:\n",
    "        protein_dict (dict): the updated dictionary\n",
    "    \"\"\"\n",
    "    # This makes it so we match only the ENTRY field\n",
    "    uniprot_list = ['id%3A'+id for id in uniprot_list]\n",
    "    line = '+OR+'.join(uniprot_list)\n",
    "    url = 'https://www.uniprot.org/uniprot/?query=proteome:UP000005640&format=fasta'\n",
    "    with urllib.request.urlopen(url) as f:\n",
    "        fasta = f.read().decode('utf-8').strip()\n",
    "    return fasta\n",
    "    \n",
    "uniprot_list = pro\n",
    "print(get_protein_sequences(uniprot_list))"
   ]
  },
  {
   "cell_type": "markdown",
   "metadata": {},
   "source": [
    "import urllib.parse\n",
    "import urllib.request\n",
    "\n",
    "url = 'https://www.uniprot.org/uniprot/?query=proteome:UP000005640&format=fasta'\n",
    "\n",
    "params = {\n",
    "'from': 'GENENAME',\n",
    "'to': 'ACC',\n",
    "'format': 'tab',\n",
    "'query': pro,\n",
    "'taxon': '9606',\n",
    "'columns': 'id,sequence'\n",
    "\n",
    "}\n",
    "\n",
    "data = urllib.parse.urlencode(params)\n",
    "data = data.encode('ascii')\n",
    "request = urllib.request.Request(url, data)\n",
    "with urllib.request.urlopen(request) as response:\n",
    "   res = response.read()\n",
    "print(res.decode('ascii'))\n"
   ]
  },
  {
   "cell_type": "markdown",
   "metadata": {},
   "source": [
    "def get_uniprot_sequences(uniprot_ids) -> pd.DataFrame:\n",
    "        \"\"\"\n",
    "\n",
    "\n",
    "        Parameters:\n",
    "            uniprot_ids: List, list of uniprot identifier\n",
    "\n",
    "        Returns:\n",
    "            pd.DataFrame, pandas dataframe with uniprot id column and sequence\n",
    "        \"\"\"\n",
    "        import urllib\n",
    "        url = 'https://www.uniprot.org/uploadlists/'  # This is the webserver to retrieve the Uniprot data\n",
    "        params = {\n",
    "            'from': \"GENENAME\",\n",
    "            'to': 'ACC',\n",
    "            'format': 'tab',\n",
    "            'taxon': '9606',\n",
    "            'query': \" \".join(uniprot_ids),\n",
    "            'columns': 'sequence, reviewed'}\n",
    "\n",
    "\n",
    "        data = urllib.parse.urlencode(params)\n",
    "        data = data.encode('ascii')\n",
    "        request = urllib.request.Request(url, data)\n",
    "        with urllib.request.urlopen(request) as response:\n",
    "            res = response.read()\n",
    "        df_fasta = pd.read_csv(StringIO(res.decode(\"utf-8\")), sep=\"\\t\")\n",
    "        df_fasta.columns = [\"Entry\", \"Sequence\", \"Query\"]\n",
    "        # it might happen that 2 different ids for a single query id are returned, split these rows\n",
    "        return df_fasta.assign(Query=df_fasta['Query'].str.split(',')).explode('Query')\n",
    "        "
   ]
  },
  {
   "cell_type": "markdown",
   "metadata": {},
   "source": [
    "cf= get_uniprot_sequences(pro)"
   ]
  },
  {
   "cell_type": "markdown",
   "metadata": {},
   "source": [
    "cf.drop_duplicates(subset='Query', keep=\"first\") #REMOVE DUPLICATES"
   ]
  },
  {
   "cell_type": "code",
   "execution_count": 17,
   "metadata": {},
   "outputs": [],
   "source": [
    "#get_uniprot_sequences(pro).to_csv ('pro.csv', index = False, header=True) #CSV file with new df"
   ]
  },
  {
   "cell_type": "code",
   "execution_count": 18,
   "metadata": {},
   "outputs": [],
   "source": [
    "\n",
    "#with open(\"pro.csv\", 'r') as f:\n",
    "#    proteins = f.read().splitlines()\n",
    "    \n",
    "#seq=[]\n",
    "#for i in df['Sequence']:\n",
    " #   seq.append(i)\n",
    "        \n",
    "#with open('result.txt', 'w') as f:\n",
    " #   for a in proteins:\n",
    "  #      matches = [b for b in seq if b in a]\n",
    "   #     if not matches: continue  \n",
    "    #    f.write(f\"{a}|{','.join(matches)}\\n\")\n",
    "        "
   ]
  },
  {
   "cell_type": "markdown",
   "metadata": {},
   "source": [
    "cf = get_uniprot_sequences(pro).drop_duplicates(subset='Query', keep=\"first\") #REMOVE DUPLICATES"
   ]
  },
  {
   "cell_type": "markdown",
   "metadata": {},
   "source": [
    "cf = pd.read_csv('pro.csv')"
   ]
  },
  {
   "cell_type": "markdown",
   "metadata": {},
   "source": [
    "cf= cf.drop_duplicates(subset='Entry', keep=\"first\") #REMOVE DUPLICATES"
   ]
  },
  {
   "cell_type": "markdown",
   "metadata": {},
   "source": [
    "cf.to_csv ('new_pro.csv', index = False, header=True) #CSV file with new df"
   ]
  },
  {
   "cell_type": "code",
   "execution_count": 19,
   "metadata": {},
   "outputs": [],
   "source": [
    "#with open(\"new_pro.csv\", 'r') as f:\n",
    " #   proteins = f.read().splitlines()\n",
    "    \n",
    "#seq=[]\n",
    "#for i in df['Sequence']:\n",
    " #   seq.append(i)\n",
    "        \n",
    "#with open('result.csv', 'w') as f:\n",
    " #   for a in proteins:\n",
    "  #      matches = [b for b in seq if b in a]\n",
    "   #     if not matches: continue  \n",
    "    #    f.write(f\"{a}|{','.join(matches)}\\n\")"
   ]
  },
  {
   "cell_type": "code",
   "execution_count": null,
   "metadata": {},
   "outputs": [],
   "source": []
  },
  {
   "cell_type": "code",
   "execution_count": 20,
   "metadata": {},
   "outputs": [],
   "source": [
    "#string= 'ICIRQNIEANFIKPNFQQLFRYLVLDIADNPVENIIRFFPMTKEFIDGSLQMGGKVLVHG|YLVLDIADNPVENIIR'\n",
    "#split_string = string.split('|')\n",
    "#data= {'protein': [split_string[0]], 'peptide': [split_string[1]]}\n",
    "#new_df = pd.DataFrame(data)"
   ]
  },
  {
   "cell_type": "code",
   "execution_count": 21,
   "metadata": {},
   "outputs": [],
   "source": [
    "with open(\"review.fasta\", 'r') as file:\n",
    "    proteins = file.read().splitlines()\n",
    "    \n",
    "seq=[]\n",
    "for i in df['Sequence']:\n",
    "    seq.append(i)\n",
    "        \n",
    "with open('result.txt', 'w') as f:\n",
    "    for a in proteins:\n",
    "        matches = [b for b in seq if b in a]\n",
    "        if not matches: continue  \n",
    "        f.write(f\"{a}|{','.join(matches)}\\n\")"
   ]
  },
  {
   "cell_type": "code",
   "execution_count": 22,
   "metadata": {},
   "outputs": [],
   "source": [
    "#with open('result.txt', 'r') as myf:\n",
    " #   for line in myf:\n",
    "  #      splitted = line.split('|')\n",
    "   #     data= {'protein': splitted[0], 'peptide': splitted[1]}\n",
    "    #    new_df= new_df.append(data, ignore_index=True) "
   ]
  },
  {
   "cell_type": "code",
   "execution_count": 23,
   "metadata": {},
   "outputs": [],
   "source": [
    "data= {'protein':'', 'peptide':''}\n",
    "new_df= pd.DataFrame(data, index=[0])"
   ]
  },
  {
   "cell_type": "code",
   "execution_count": 24,
   "metadata": {},
   "outputs": [
    {
     "data": {
      "text/html": [
       "<div>\n",
       "<style scoped>\n",
       "    .dataframe tbody tr th:only-of-type {\n",
       "        vertical-align: middle;\n",
       "    }\n",
       "\n",
       "    .dataframe tbody tr th {\n",
       "        vertical-align: top;\n",
       "    }\n",
       "\n",
       "    .dataframe thead th {\n",
       "        text-align: right;\n",
       "    }\n",
       "</style>\n",
       "<table border=\"1\" class=\"dataframe\">\n",
       "  <thead>\n",
       "    <tr style=\"text-align: right;\">\n",
       "      <th></th>\n",
       "      <th>protein</th>\n",
       "      <th>peptide</th>\n",
       "    </tr>\n",
       "  </thead>\n",
       "  <tbody>\n",
       "    <tr>\n",
       "      <th>0</th>\n",
       "      <td></td>\n",
       "      <td></td>\n",
       "    </tr>\n",
       "  </tbody>\n",
       "</table>\n",
       "</div>"
      ],
      "text/plain": [
       "  protein peptide\n",
       "0                "
      ]
     },
     "execution_count": 24,
     "metadata": {},
     "output_type": "execute_result"
    }
   ],
   "source": [
    "new_df"
   ]
  },
  {
   "cell_type": "code",
   "execution_count": 25,
   "metadata": {},
   "outputs": [],
   "source": [
    "with open('result.txt', 'r') as f:\n",
    "    for line in f:\n",
    "        splitted = line.split('|')\n",
    "        for i in splitted[1].split(','):\n",
    "            data= {'protein': splitted[0], 'peptide': i} \n",
    "            new_df= new_df.append(data, ignore_index=True)"
   ]
  },
  {
   "cell_type": "code",
   "execution_count": 26,
   "metadata": {},
   "outputs": [
    {
     "data": {
      "text/html": [
       "<div>\n",
       "<style scoped>\n",
       "    .dataframe tbody tr th:only-of-type {\n",
       "        vertical-align: middle;\n",
       "    }\n",
       "\n",
       "    .dataframe tbody tr th {\n",
       "        vertical-align: top;\n",
       "    }\n",
       "\n",
       "    .dataframe thead th {\n",
       "        text-align: right;\n",
       "    }\n",
       "</style>\n",
       "<table border=\"1\" class=\"dataframe\">\n",
       "  <thead>\n",
       "    <tr style=\"text-align: right;\">\n",
       "      <th></th>\n",
       "      <th>protein</th>\n",
       "      <th>peptide</th>\n",
       "    </tr>\n",
       "  </thead>\n",
       "  <tbody>\n",
       "    <tr>\n",
       "      <th>0</th>\n",
       "      <td></td>\n",
       "      <td></td>\n",
       "    </tr>\n",
       "    <tr>\n",
       "      <th>1</th>\n",
       "      <td>MGTTAPGPIHLLELCDQKLMEFLCNMDNKDLVWLEEIQEEAERMFT...</td>\n",
       "      <td>DLVWLEEIQEEAER\\n</td>\n",
       "    </tr>\n",
       "    <tr>\n",
       "      <th>2</th>\n",
       "      <td>LRRVTRAAAAAAAATMALAAPSSPTPESPTMLTKKPEDNHTQCQLV...</td>\n",
       "      <td>AAAAAAAATMALAAPSSPTPESPTMLTK\\n</td>\n",
       "    </tr>\n",
       "    <tr>\n",
       "      <th>3</th>\n",
       "      <td>MAAAAAAAGDSDSWDADAFSVEDPVRKVGGGGTAGGDRWEGEDEDE...</td>\n",
       "      <td>AAAAAAAGDSDSWDADAFSVEDPVR</td>\n",
       "    </tr>\n",
       "    <tr>\n",
       "      <th>4</th>\n",
       "      <td>MAAAAAAAGDSDSWDADAFSVEDPVRKVGGGGTAGGDRWEGEDEDE...</td>\n",
       "      <td>AAAAAAAGDSDSWDADAFSVEDPVRK\\n</td>\n",
       "    </tr>\n",
       "    <tr>\n",
       "      <th>...</th>\n",
       "      <td>...</td>\n",
       "      <td>...</td>\n",
       "    </tr>\n",
       "    <tr>\n",
       "      <th>36072</th>\n",
       "      <td>THVMLGAETEEKLFDAPLSISKREQLEQQVPENYFYVPDLGQVPEI...</td>\n",
       "      <td>LFDAPLSISK\\n</td>\n",
       "    </tr>\n",
       "    <tr>\n",
       "      <th>36073</th>\n",
       "      <td>LKSLIIVHPSWFIRTLLAVTRPFISSKFSQKIRYVFNLAELAELVP...</td>\n",
       "      <td>YVFNLAELAELVPMEYVGIPECIK\\n</td>\n",
       "    </tr>\n",
       "    <tr>\n",
       "      <th>36074</th>\n",
       "      <td>DLKYVNPETVAALLSGKFQGLIEKFYVIDCRYPYEYLGGHIQGALN...</td>\n",
       "      <td>YVNPETVAALLSGK\\n</td>\n",
       "    </tr>\n",
       "    <tr>\n",
       "      <th>36075</th>\n",
       "      <td>PTTASSYVDSALKPLFQLQSGHKDKLKQAIIQQWLEGTLSESTHKY...</td>\n",
       "      <td>YYETVSDVLNSVK\\n</td>\n",
       "    </tr>\n",
       "    <tr>\n",
       "      <th>36076</th>\n",
       "      <td>MTDQTYCDRLVQDTPFLTGHGRLSEQQVDRIILQLNRYYPQILTNK...</td>\n",
       "      <td>YYPQILTNK\\n</td>\n",
       "    </tr>\n",
       "  </tbody>\n",
       "</table>\n",
       "<p>36077 rows × 2 columns</p>\n",
       "</div>"
      ],
      "text/plain": [
       "                                                 protein  \\\n",
       "0                                                          \n",
       "1      MGTTAPGPIHLLELCDQKLMEFLCNMDNKDLVWLEEIQEEAERMFT...   \n",
       "2      LRRVTRAAAAAAAATMALAAPSSPTPESPTMLTKKPEDNHTQCQLV...   \n",
       "3      MAAAAAAAGDSDSWDADAFSVEDPVRKVGGGGTAGGDRWEGEDEDE...   \n",
       "4      MAAAAAAAGDSDSWDADAFSVEDPVRKVGGGGTAGGDRWEGEDEDE...   \n",
       "...                                                  ...   \n",
       "36072  THVMLGAETEEKLFDAPLSISKREQLEQQVPENYFYVPDLGQVPEI...   \n",
       "36073  LKSLIIVHPSWFIRTLLAVTRPFISSKFSQKIRYVFNLAELAELVP...   \n",
       "36074  DLKYVNPETVAALLSGKFQGLIEKFYVIDCRYPYEYLGGHIQGALN...   \n",
       "36075  PTTASSYVDSALKPLFQLQSGHKDKLKQAIIQQWLEGTLSESTHKY...   \n",
       "36076  MTDQTYCDRLVQDTPFLTGHGRLSEQQVDRIILQLNRYYPQILTNK...   \n",
       "\n",
       "                              peptide  \n",
       "0                                      \n",
       "1                    DLVWLEEIQEEAER\\n  \n",
       "2      AAAAAAAATMALAAPSSPTPESPTMLTK\\n  \n",
       "3           AAAAAAAGDSDSWDADAFSVEDPVR  \n",
       "4        AAAAAAAGDSDSWDADAFSVEDPVRK\\n  \n",
       "...                               ...  \n",
       "36072                    LFDAPLSISK\\n  \n",
       "36073      YVFNLAELAELVPMEYVGIPECIK\\n  \n",
       "36074                YVNPETVAALLSGK\\n  \n",
       "36075                 YYETVSDVLNSVK\\n  \n",
       "36076                     YYPQILTNK\\n  \n",
       "\n",
       "[36077 rows x 2 columns]"
      ]
     },
     "execution_count": 26,
     "metadata": {},
     "output_type": "execute_result"
    }
   ],
   "source": [
    "new_df"
   ]
  },
  {
   "cell_type": "code",
   "execution_count": 27,
   "metadata": {},
   "outputs": [],
   "source": [
    "new_df.to_csv ('pro_pep_0.csv', index = False, header=True) #CSV file with new df"
   ]
  },
  {
   "cell_type": "code",
   "execution_count": 28,
   "metadata": {},
   "outputs": [
    {
     "name": "stdout",
     "output_type": "stream",
     "text": [
      "38\n",
      "46\n",
      "45\n",
      "K\n",
      "45\n",
      "V\n"
     ]
    },
    {
     "data": {
      "text/plain": [
       "'K'"
      ]
     },
     "execution_count": 28,
     "metadata": {},
     "output_type": "execute_result"
    }
   ],
   "source": [
    "protein1= 'EEAEVKPEVKISEKKKIAEKIKEKERQQKKRQEEIKKRLEEPEEPKVLTPEEQLADKLRL'\n",
    "peptide1= 'LEEPEEPK'\n",
    "position= protein1.find(peptide1)\n",
    "last_position_amino_acid= position + len(peptide1)-1\n",
    "next_position= position+len(peptide1)\n",
    "protein1[next_position]\n",
    "print(position)\n",
    "print(next_position)\n",
    "print(last_position_amino_acid)\n",
    "print(protein1[last_position_amino_acid])\n",
    "print(position+len(peptide1)-1)\n",
    "print(protein1[next_position])\n",
    "protein1[45]\n"
   ]
  },
  {
   "cell_type": "code",
   "execution_count": null,
   "metadata": {},
   "outputs": [],
   "source": []
  },
  {
   "cell_type": "code",
   "execution_count": 29,
   "metadata": {},
   "outputs": [],
   "source": [
    "\n",
    "#try:\n",
    " #   for seq in new_df['peptide']:\n",
    "  #      for i in new_df['protein']:\n",
    "   #         postion= i.find(seq)\n",
    "    #        if postion != -1:\n",
    "     #           print(i)\n",
    "      #          print(seq)\n",
    "       #         print(postion)\n",
    "        #        print(i[postion+len(seq)])\n",
    "         #       print('\\n')\n",
    "#except:\n",
    "#    print('no match')"
   ]
  },
  {
   "cell_type": "code",
   "execution_count": 30,
   "metadata": {},
   "outputs": [],
   "source": [
    "\n",
    "new_df=new_df.drop(new_df.index[0])\n"
   ]
  },
  {
   "cell_type": "code",
   "execution_count": 31,
   "metadata": {},
   "outputs": [
    {
     "data": {
      "text/html": [
       "<div>\n",
       "<style scoped>\n",
       "    .dataframe tbody tr th:only-of-type {\n",
       "        vertical-align: middle;\n",
       "    }\n",
       "\n",
       "    .dataframe tbody tr th {\n",
       "        vertical-align: top;\n",
       "    }\n",
       "\n",
       "    .dataframe thead th {\n",
       "        text-align: right;\n",
       "    }\n",
       "</style>\n",
       "<table border=\"1\" class=\"dataframe\">\n",
       "  <thead>\n",
       "    <tr style=\"text-align: right;\">\n",
       "      <th></th>\n",
       "      <th>protein</th>\n",
       "      <th>peptide</th>\n",
       "    </tr>\n",
       "  </thead>\n",
       "  <tbody>\n",
       "    <tr>\n",
       "      <th>1</th>\n",
       "      <td>MGTTAPGPIHLLELCDQKLMEFLCNMDNKDLVWLEEIQEEAERMFT...</td>\n",
       "      <td>DLVWLEEIQEEAER\\n</td>\n",
       "    </tr>\n",
       "    <tr>\n",
       "      <th>2</th>\n",
       "      <td>LRRVTRAAAAAAAATMALAAPSSPTPESPTMLTKKPEDNHTQCQLV...</td>\n",
       "      <td>AAAAAAAATMALAAPSSPTPESPTMLTK\\n</td>\n",
       "    </tr>\n",
       "    <tr>\n",
       "      <th>3</th>\n",
       "      <td>MAAAAAAAGDSDSWDADAFSVEDPVRKVGGGGTAGGDRWEGEDEDE...</td>\n",
       "      <td>AAAAAAAGDSDSWDADAFSVEDPVR</td>\n",
       "    </tr>\n",
       "    <tr>\n",
       "      <th>4</th>\n",
       "      <td>MAAAAAAAGDSDSWDADAFSVEDPVRKVGGGGTAGGDRWEGEDEDE...</td>\n",
       "      <td>AAAAAAAGDSDSWDADAFSVEDPVRK\\n</td>\n",
       "    </tr>\n",
       "    <tr>\n",
       "      <th>5</th>\n",
       "      <td>EEAEVKPEVKISEKKKIAEKIKEKERQQKKRQEEIKKRLEEPEEPK...</td>\n",
       "      <td>LEEPEEPK</td>\n",
       "    </tr>\n",
       "    <tr>\n",
       "      <th>...</th>\n",
       "      <td>...</td>\n",
       "      <td>...</td>\n",
       "    </tr>\n",
       "    <tr>\n",
       "      <th>36072</th>\n",
       "      <td>THVMLGAETEEKLFDAPLSISKREQLEQQVPENYFYVPDLGQVPEI...</td>\n",
       "      <td>LFDAPLSISK\\n</td>\n",
       "    </tr>\n",
       "    <tr>\n",
       "      <th>36073</th>\n",
       "      <td>LKSLIIVHPSWFIRTLLAVTRPFISSKFSQKIRYVFNLAELAELVP...</td>\n",
       "      <td>YVFNLAELAELVPMEYVGIPECIK\\n</td>\n",
       "    </tr>\n",
       "    <tr>\n",
       "      <th>36074</th>\n",
       "      <td>DLKYVNPETVAALLSGKFQGLIEKFYVIDCRYPYEYLGGHIQGALN...</td>\n",
       "      <td>YVNPETVAALLSGK\\n</td>\n",
       "    </tr>\n",
       "    <tr>\n",
       "      <th>36075</th>\n",
       "      <td>PTTASSYVDSALKPLFQLQSGHKDKLKQAIIQQWLEGTLSESTHKY...</td>\n",
       "      <td>YYETVSDVLNSVK\\n</td>\n",
       "    </tr>\n",
       "    <tr>\n",
       "      <th>36076</th>\n",
       "      <td>MTDQTYCDRLVQDTPFLTGHGRLSEQQVDRIILQLNRYYPQILTNK...</td>\n",
       "      <td>YYPQILTNK\\n</td>\n",
       "    </tr>\n",
       "  </tbody>\n",
       "</table>\n",
       "<p>36076 rows × 2 columns</p>\n",
       "</div>"
      ],
      "text/plain": [
       "                                                 protein  \\\n",
       "1      MGTTAPGPIHLLELCDQKLMEFLCNMDNKDLVWLEEIQEEAERMFT...   \n",
       "2      LRRVTRAAAAAAAATMALAAPSSPTPESPTMLTKKPEDNHTQCQLV...   \n",
       "3      MAAAAAAAGDSDSWDADAFSVEDPVRKVGGGGTAGGDRWEGEDEDE...   \n",
       "4      MAAAAAAAGDSDSWDADAFSVEDPVRKVGGGGTAGGDRWEGEDEDE...   \n",
       "5      EEAEVKPEVKISEKKKIAEKIKEKERQQKKRQEEIKKRLEEPEEPK...   \n",
       "...                                                  ...   \n",
       "36072  THVMLGAETEEKLFDAPLSISKREQLEQQVPENYFYVPDLGQVPEI...   \n",
       "36073  LKSLIIVHPSWFIRTLLAVTRPFISSKFSQKIRYVFNLAELAELVP...   \n",
       "36074  DLKYVNPETVAALLSGKFQGLIEKFYVIDCRYPYEYLGGHIQGALN...   \n",
       "36075  PTTASSYVDSALKPLFQLQSGHKDKLKQAIIQQWLEGTLSESTHKY...   \n",
       "36076  MTDQTYCDRLVQDTPFLTGHGRLSEQQVDRIILQLNRYYPQILTNK...   \n",
       "\n",
       "                              peptide  \n",
       "1                    DLVWLEEIQEEAER\\n  \n",
       "2      AAAAAAAATMALAAPSSPTPESPTMLTK\\n  \n",
       "3           AAAAAAAGDSDSWDADAFSVEDPVR  \n",
       "4        AAAAAAAGDSDSWDADAFSVEDPVRK\\n  \n",
       "5                            LEEPEEPK  \n",
       "...                               ...  \n",
       "36072                    LFDAPLSISK\\n  \n",
       "36073      YVFNLAELAELVPMEYVGIPECIK\\n  \n",
       "36074                YVNPETVAALLSGK\\n  \n",
       "36075                 YYETVSDVLNSVK\\n  \n",
       "36076                     YYPQILTNK\\n  \n",
       "\n",
       "[36076 rows x 2 columns]"
      ]
     },
     "execution_count": 31,
     "metadata": {},
     "output_type": "execute_result"
    }
   ],
   "source": [
    "new_df"
   ]
  },
  {
   "cell_type": "code",
   "execution_count": 32,
   "metadata": {},
   "outputs": [],
   "source": [
    "new_df=new_df.replace('\\n', '', regex=True)"
   ]
  },
  {
   "cell_type": "code",
   "execution_count": 33,
   "metadata": {},
   "outputs": [
    {
     "data": {
      "text/html": [
       "<div>\n",
       "<style scoped>\n",
       "    .dataframe tbody tr th:only-of-type {\n",
       "        vertical-align: middle;\n",
       "    }\n",
       "\n",
       "    .dataframe tbody tr th {\n",
       "        vertical-align: top;\n",
       "    }\n",
       "\n",
       "    .dataframe thead th {\n",
       "        text-align: right;\n",
       "    }\n",
       "</style>\n",
       "<table border=\"1\" class=\"dataframe\">\n",
       "  <thead>\n",
       "    <tr style=\"text-align: right;\">\n",
       "      <th></th>\n",
       "      <th>protein</th>\n",
       "      <th>peptide</th>\n",
       "    </tr>\n",
       "  </thead>\n",
       "  <tbody>\n",
       "    <tr>\n",
       "      <th>1</th>\n",
       "      <td>MGTTAPGPIHLLELCDQKLMEFLCNMDNKDLVWLEEIQEEAERMFT...</td>\n",
       "      <td>DLVWLEEIQEEAER</td>\n",
       "    </tr>\n",
       "    <tr>\n",
       "      <th>2</th>\n",
       "      <td>LRRVTRAAAAAAAATMALAAPSSPTPESPTMLTKKPEDNHTQCQLV...</td>\n",
       "      <td>AAAAAAAATMALAAPSSPTPESPTMLTK</td>\n",
       "    </tr>\n",
       "    <tr>\n",
       "      <th>3</th>\n",
       "      <td>MAAAAAAAGDSDSWDADAFSVEDPVRKVGGGGTAGGDRWEGEDEDE...</td>\n",
       "      <td>AAAAAAAGDSDSWDADAFSVEDPVR</td>\n",
       "    </tr>\n",
       "    <tr>\n",
       "      <th>4</th>\n",
       "      <td>MAAAAAAAGDSDSWDADAFSVEDPVRKVGGGGTAGGDRWEGEDEDE...</td>\n",
       "      <td>AAAAAAAGDSDSWDADAFSVEDPVRK</td>\n",
       "    </tr>\n",
       "    <tr>\n",
       "      <th>5</th>\n",
       "      <td>EEAEVKPEVKISEKKKIAEKIKEKERQQKKRQEEIKKRLEEPEEPK...</td>\n",
       "      <td>LEEPEEPK</td>\n",
       "    </tr>\n",
       "    <tr>\n",
       "      <th>...</th>\n",
       "      <td>...</td>\n",
       "      <td>...</td>\n",
       "    </tr>\n",
       "    <tr>\n",
       "      <th>36072</th>\n",
       "      <td>THVMLGAETEEKLFDAPLSISKREQLEQQVPENYFYVPDLGQVPEI...</td>\n",
       "      <td>LFDAPLSISK</td>\n",
       "    </tr>\n",
       "    <tr>\n",
       "      <th>36073</th>\n",
       "      <td>LKSLIIVHPSWFIRTLLAVTRPFISSKFSQKIRYVFNLAELAELVP...</td>\n",
       "      <td>YVFNLAELAELVPMEYVGIPECIK</td>\n",
       "    </tr>\n",
       "    <tr>\n",
       "      <th>36074</th>\n",
       "      <td>DLKYVNPETVAALLSGKFQGLIEKFYVIDCRYPYEYLGGHIQGALN...</td>\n",
       "      <td>YVNPETVAALLSGK</td>\n",
       "    </tr>\n",
       "    <tr>\n",
       "      <th>36075</th>\n",
       "      <td>PTTASSYVDSALKPLFQLQSGHKDKLKQAIIQQWLEGTLSESTHKY...</td>\n",
       "      <td>YYETVSDVLNSVK</td>\n",
       "    </tr>\n",
       "    <tr>\n",
       "      <th>36076</th>\n",
       "      <td>MTDQTYCDRLVQDTPFLTGHGRLSEQQVDRIILQLNRYYPQILTNK...</td>\n",
       "      <td>YYPQILTNK</td>\n",
       "    </tr>\n",
       "  </tbody>\n",
       "</table>\n",
       "<p>36076 rows × 2 columns</p>\n",
       "</div>"
      ],
      "text/plain": [
       "                                                 protein  \\\n",
       "1      MGTTAPGPIHLLELCDQKLMEFLCNMDNKDLVWLEEIQEEAERMFT...   \n",
       "2      LRRVTRAAAAAAAATMALAAPSSPTPESPTMLTKKPEDNHTQCQLV...   \n",
       "3      MAAAAAAAGDSDSWDADAFSVEDPVRKVGGGGTAGGDRWEGEDEDE...   \n",
       "4      MAAAAAAAGDSDSWDADAFSVEDPVRKVGGGGTAGGDRWEGEDEDE...   \n",
       "5      EEAEVKPEVKISEKKKIAEKIKEKERQQKKRQEEIKKRLEEPEEPK...   \n",
       "...                                                  ...   \n",
       "36072  THVMLGAETEEKLFDAPLSISKREQLEQQVPENYFYVPDLGQVPEI...   \n",
       "36073  LKSLIIVHPSWFIRTLLAVTRPFISSKFSQKIRYVFNLAELAELVP...   \n",
       "36074  DLKYVNPETVAALLSGKFQGLIEKFYVIDCRYPYEYLGGHIQGALN...   \n",
       "36075  PTTASSYVDSALKPLFQLQSGHKDKLKQAIIQQWLEGTLSESTHKY...   \n",
       "36076  MTDQTYCDRLVQDTPFLTGHGRLSEQQVDRIILQLNRYYPQILTNK...   \n",
       "\n",
       "                            peptide  \n",
       "1                    DLVWLEEIQEEAER  \n",
       "2      AAAAAAAATMALAAPSSPTPESPTMLTK  \n",
       "3         AAAAAAAGDSDSWDADAFSVEDPVR  \n",
       "4        AAAAAAAGDSDSWDADAFSVEDPVRK  \n",
       "5                          LEEPEEPK  \n",
       "...                             ...  \n",
       "36072                    LFDAPLSISK  \n",
       "36073      YVFNLAELAELVPMEYVGIPECIK  \n",
       "36074                YVNPETVAALLSGK  \n",
       "36075                 YYETVSDVLNSVK  \n",
       "36076                     YYPQILTNK  \n",
       "\n",
       "[36076 rows x 2 columns]"
      ]
     },
     "execution_count": 33,
     "metadata": {},
     "output_type": "execute_result"
    }
   ],
   "source": [
    "new_df"
   ]
  },
  {
   "cell_type": "code",
   "execution_count": 34,
   "metadata": {},
   "outputs": [],
   "source": [
    "def find_peptide(protein, peptide):\n",
    "    try:\n",
    "        position = protein.find(peptide)\n",
    "        next_position= position+len(str(peptide))\n",
    "        return protein[next_position]\n",
    "        \n",
    "    except:\n",
    "        return '-'\n",
    "        #        print(i[postion+len(seq)])\n",
    "\n"
   ]
  },
  {
   "cell_type": "code",
   "execution_count": 35,
   "metadata": {},
   "outputs": [
    {
     "data": {
      "text/plain": [
       "protein    object\n",
       "peptide    object\n",
       "dtype: object"
      ]
     },
     "execution_count": 35,
     "metadata": {},
     "output_type": "execute_result"
    }
   ],
   "source": [
    "new_df.dtypes"
   ]
  },
  {
   "cell_type": "code",
   "execution_count": 36,
   "metadata": {},
   "outputs": [
    {
     "data": {
      "text/plain": [
       "'K'"
      ]
     },
     "execution_count": 36,
     "metadata": {},
     "output_type": "execute_result"
    }
   ],
   "source": [
    "protein1= 'LRRVTRAAAAAAAATMALAAPSSPTPESPTMLTKKPEDNHTQCQLVPVVEIGISERQNAE'\n",
    "peptide1= 'AAAAAAAATMALAAPSSPTPESPTMLTK'\n",
    "\n",
    "find_peptide(protein1, peptide1) "
   ]
  },
  {
   "cell_type": "code",
   "execution_count": 37,
   "metadata": {},
   "outputs": [
    {
     "name": "stdout",
     "output_type": "stream",
     "text": [
      "LRRVTRAAAAAAAATMALAAPSSPTPESPTMLTKKPEDNHTQCQLVPVVEIGISERQNAE\n",
      "AAAAAAAATMALAAPSSPTPESPTMLTK\n"
     ]
    }
   ],
   "source": [
    "print(new_df['protein'][2])\n",
    "print(new_df['peptide'][2])"
   ]
  },
  {
   "cell_type": "code",
   "execution_count": 38,
   "metadata": {},
   "outputs": [
    {
     "data": {
      "text/plain": [
       "'K'"
      ]
     },
     "execution_count": 38,
     "metadata": {},
     "output_type": "execute_result"
    }
   ],
   "source": [
    "find_peptide(new_df['protein'][2], new_df['peptide'][2])"
   ]
  },
  {
   "cell_type": "code",
   "execution_count": 39,
   "metadata": {},
   "outputs": [
    {
     "data": {
      "text/html": [
       "<div>\n",
       "<style scoped>\n",
       "    .dataframe tbody tr th:only-of-type {\n",
       "        vertical-align: middle;\n",
       "    }\n",
       "\n",
       "    .dataframe tbody tr th {\n",
       "        vertical-align: top;\n",
       "    }\n",
       "\n",
       "    .dataframe thead th {\n",
       "        text-align: right;\n",
       "    }\n",
       "</style>\n",
       "<table border=\"1\" class=\"dataframe\">\n",
       "  <thead>\n",
       "    <tr style=\"text-align: right;\">\n",
       "      <th></th>\n",
       "      <th>protein</th>\n",
       "      <th>peptide</th>\n",
       "      <th>next_aa</th>\n",
       "    </tr>\n",
       "  </thead>\n",
       "  <tbody>\n",
       "    <tr>\n",
       "      <th>1</th>\n",
       "      <td>MGTTAPGPIHLLELCDQKLMEFLCNMDNKDLVWLEEIQEEAERMFT...</td>\n",
       "      <td>DLVWLEEIQEEAER</td>\n",
       "      <td>M</td>\n",
       "    </tr>\n",
       "    <tr>\n",
       "      <th>2</th>\n",
       "      <td>LRRVTRAAAAAAAATMALAAPSSPTPESPTMLTKKPEDNHTQCQLV...</td>\n",
       "      <td>AAAAAAAATMALAAPSSPTPESPTMLTK</td>\n",
       "      <td>K</td>\n",
       "    </tr>\n",
       "    <tr>\n",
       "      <th>3</th>\n",
       "      <td>MAAAAAAAGDSDSWDADAFSVEDPVRKVGGGGTAGGDRWEGEDEDE...</td>\n",
       "      <td>AAAAAAAGDSDSWDADAFSVEDPVR</td>\n",
       "      <td>K</td>\n",
       "    </tr>\n",
       "    <tr>\n",
       "      <th>4</th>\n",
       "      <td>MAAAAAAAGDSDSWDADAFSVEDPVRKVGGGGTAGGDRWEGEDEDE...</td>\n",
       "      <td>AAAAAAAGDSDSWDADAFSVEDPVRK</td>\n",
       "      <td>V</td>\n",
       "    </tr>\n",
       "    <tr>\n",
       "      <th>5</th>\n",
       "      <td>EEAEVKPEVKISEKKKIAEKIKEKERQQKKRQEEIKKRLEEPEEPK...</td>\n",
       "      <td>LEEPEEPK</td>\n",
       "      <td>V</td>\n",
       "    </tr>\n",
       "    <tr>\n",
       "      <th>...</th>\n",
       "      <td>...</td>\n",
       "      <td>...</td>\n",
       "      <td>...</td>\n",
       "    </tr>\n",
       "    <tr>\n",
       "      <th>36072</th>\n",
       "      <td>THVMLGAETEEKLFDAPLSISKREQLEQQVPENYFYVPDLGQVPEI...</td>\n",
       "      <td>LFDAPLSISK</td>\n",
       "      <td>R</td>\n",
       "    </tr>\n",
       "    <tr>\n",
       "      <th>36073</th>\n",
       "      <td>LKSLIIVHPSWFIRTLLAVTRPFISSKFSQKIRYVFNLAELAELVP...</td>\n",
       "      <td>YVFNLAELAELVPMEYVGIPECIK</td>\n",
       "      <td>Q</td>\n",
       "    </tr>\n",
       "    <tr>\n",
       "      <th>36074</th>\n",
       "      <td>DLKYVNPETVAALLSGKFQGLIEKFYVIDCRYPYEYLGGHIQGALN...</td>\n",
       "      <td>YVNPETVAALLSGK</td>\n",
       "      <td>F</td>\n",
       "    </tr>\n",
       "    <tr>\n",
       "      <th>36075</th>\n",
       "      <td>PTTASSYVDSALKPLFQLQSGHKDKLKQAIIQQWLEGTLSESTHKY...</td>\n",
       "      <td>YYETVSDVLNSVK</td>\n",
       "      <td>K</td>\n",
       "    </tr>\n",
       "    <tr>\n",
       "      <th>36076</th>\n",
       "      <td>MTDQTYCDRLVQDTPFLTGHGRLSEQQVDRIILQLNRYYPQILTNK...</td>\n",
       "      <td>YYPQILTNK</td>\n",
       "      <td>E</td>\n",
       "    </tr>\n",
       "  </tbody>\n",
       "</table>\n",
       "<p>36076 rows × 3 columns</p>\n",
       "</div>"
      ],
      "text/plain": [
       "                                                 protein  \\\n",
       "1      MGTTAPGPIHLLELCDQKLMEFLCNMDNKDLVWLEEIQEEAERMFT...   \n",
       "2      LRRVTRAAAAAAAATMALAAPSSPTPESPTMLTKKPEDNHTQCQLV...   \n",
       "3      MAAAAAAAGDSDSWDADAFSVEDPVRKVGGGGTAGGDRWEGEDEDE...   \n",
       "4      MAAAAAAAGDSDSWDADAFSVEDPVRKVGGGGTAGGDRWEGEDEDE...   \n",
       "5      EEAEVKPEVKISEKKKIAEKIKEKERQQKKRQEEIKKRLEEPEEPK...   \n",
       "...                                                  ...   \n",
       "36072  THVMLGAETEEKLFDAPLSISKREQLEQQVPENYFYVPDLGQVPEI...   \n",
       "36073  LKSLIIVHPSWFIRTLLAVTRPFISSKFSQKIRYVFNLAELAELVP...   \n",
       "36074  DLKYVNPETVAALLSGKFQGLIEKFYVIDCRYPYEYLGGHIQGALN...   \n",
       "36075  PTTASSYVDSALKPLFQLQSGHKDKLKQAIIQQWLEGTLSESTHKY...   \n",
       "36076  MTDQTYCDRLVQDTPFLTGHGRLSEQQVDRIILQLNRYYPQILTNK...   \n",
       "\n",
       "                            peptide next_aa  \n",
       "1                    DLVWLEEIQEEAER       M  \n",
       "2      AAAAAAAATMALAAPSSPTPESPTMLTK       K  \n",
       "3         AAAAAAAGDSDSWDADAFSVEDPVR       K  \n",
       "4        AAAAAAAGDSDSWDADAFSVEDPVRK       V  \n",
       "5                          LEEPEEPK       V  \n",
       "...                             ...     ...  \n",
       "36072                    LFDAPLSISK       R  \n",
       "36073      YVFNLAELAELVPMEYVGIPECIK       Q  \n",
       "36074                YVNPETVAALLSGK       F  \n",
       "36075                 YYETVSDVLNSVK       K  \n",
       "36076                     YYPQILTNK       E  \n",
       "\n",
       "[36076 rows x 3 columns]"
      ]
     },
     "execution_count": 39,
     "metadata": {},
     "output_type": "execute_result"
    }
   ],
   "source": [
    "new_df['next_aa']= new_df.apply(lambda row: find_peptide(row['protein'], row['peptide']), axis=1)\n",
    "new_df\n"
   ]
  },
  {
   "cell_type": "code",
   "execution_count": 40,
   "metadata": {},
   "outputs": [],
   "source": [
    "new_df.to_csv ('pro_pep.csv', index = False, header=True) #CSV file with new df"
   ]
  },
  {
   "cell_type": "code",
   "execution_count": 41,
   "metadata": {},
   "outputs": [
    {
     "data": {
      "text/plain": [
       "360"
      ]
     },
     "execution_count": 41,
     "metadata": {},
     "output_type": "execute_result"
    }
   ],
   "source": [
    "p_count= (new_df['next_aa'] == 'P').sum()\n",
    "p_count"
   ]
  },
  {
   "cell_type": "code",
   "execution_count": 42,
   "metadata": {},
   "outputs": [
    {
     "name": "stdout",
     "output_type": "stream",
     "text": [
      "1744\n"
     ]
    }
   ],
   "source": [
    "dash_count= (new_df['next_aa'] =='-').sum()\n",
    "non_count= (new_df['next_aa'] == 'P').sum()\n",
    "tots_count= dash_count+non_count\n",
    "print(tots_count)\n"
   ]
  },
  {
   "cell_type": "code",
   "execution_count": 43,
   "metadata": {},
   "outputs": [
    {
     "data": {
      "text/plain": [
       "36076"
      ]
     },
     "execution_count": 43,
     "metadata": {},
     "output_type": "execute_result"
    }
   ],
   "source": [
    "all_pep= len(new_df)\n",
    "all_pep"
   ]
  },
  {
   "cell_type": "code",
   "execution_count": 44,
   "metadata": {},
   "outputs": [
    {
     "data": {
      "text/plain": [
       "34332"
      ]
     },
     "execution_count": 44,
     "metadata": {},
     "output_type": "execute_result"
    }
   ],
   "source": [
    "non_p_count= all_pep-tots_count\n",
    "non_p_count"
   ]
  },
  {
   "cell_type": "code",
   "execution_count": 45,
   "metadata": {},
   "outputs": [
    {
     "data": {
      "image/png": "[encoded data removed]",
      "text/plain": [
       "<Figure size 432x288 with 1 Axes>"
      ]
     },
     "metadata": {
      "needs_background": "light"
     },
     "output_type": "display_data"
    }
   ],
   "source": [
    "x3 = np.array([\"Total\",\"P_count\"])\n",
    "y3 = np.array([non_p_count,p_count])\n",
    "plt.bar(x3, y3, width= 0.6 , color=[\"#61afa1\", \"#b175c7\"])\n",
    "plt.show()"
   ]
  },
  {
   "cell_type": "code",
   "execution_count": 46,
   "metadata": {},
   "outputs": [
    {
     "name": "stdout",
     "output_type": "stream",
     "text": [
      "1%\n"
     ]
    }
   ],
   "source": [
    "percentage_p  = round((p_count/non_p_count)*100)\n",
    "percentage_p\n",
    "\n",
    "print(f\"{percentage_p}%\")"
   ]
  },
  {
   "cell_type": "code",
   "execution_count": 47,
   "metadata": {},
   "outputs": [],
   "source": [
    "#new_df['p_count'] = new_df.next_aa.str.count('P')"
   ]
  },
  {
   "cell_type": "code",
   "execution_count": 48,
   "metadata": {},
   "outputs": [],
   "source": [
    "#pattern = re.compile(\".+([RK]P).+\")\n",
    "#pattern = re.compile(\".+([RK]P).*\\|.*,?\")\n",
    "#for i, line in enumerate(open('result.txt')):\n",
    " #   for match in re.finditer(pattern, line):\n",
    "  #      print  (i+1, match.group())"
   ]
  },
  {
   "cell_type": "code",
   "execution_count": 49,
   "metadata": {},
   "outputs": [],
   "source": [
    "#protein1= 'EEAEVKPEVKISEKKKIAEKIKEKERQQKKRQEEIKKRLEEPEEPKVLTPEEQLADKLRL'\n",
    "#peptide1= 'LTPEEQLADKLRL'\n",
    "#try:\n",
    " #   position= protein1.find(peptide1)\n",
    "  #  next_position= position+len(peptide1)\n",
    "   # protein1[next_position]\n",
    "#except:\n",
    " #   print('not found')"
   ]
  }
 ],
 "metadata": {
  "interpreter": {
   "hash": "40d3a090f54c6569ab1632332b64b2c03c39dcf918b08424e98f38b5ae0af88f"
  },
  "kernelspec": {
   "display_name": "Python 3.8.8 ('base')",
   "language": "python",
   "name": "python3"
  },
  "language_info": {
   "codemirror_mode": {
    "name": "ipython",
    "version": 3
   },
   "file_extension": ".py",
   "mimetype": "text/x-python",
   "name": "python",
   "nbconvert_exporter": "python",
   "pygments_lexer": "ipython3",
   "version": "3.8.8"
  },
  "orig_nbformat": 4
 },
 "nbformat": 4,
 "nbformat_minor": 2
}
